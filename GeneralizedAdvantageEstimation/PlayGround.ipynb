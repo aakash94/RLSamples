{
 "cells": [
  {
   "cell_type": "code",
   "execution_count": 1,
   "metadata": {},
   "outputs": [],
   "source": [
    "import gym\n",
    "import numpy as np\n",
    "from Actor import Actor\n",
    "import torch\n",
    "from Loader import Loader\n",
    "import torch.utils.data.dataloader as dataloader"
   ]
  },
  {
   "cell_type": "code",
   "execution_count": 17,
   "metadata": {},
   "outputs": [
    {
     "name": "stdout",
     "output_type": "stream",
     "text": [
      "\u001b[33mWARN: gym.spaces.Box autodetected dtype as <class 'numpy.float32'>. Please provide explicit dtype.\u001b[0m\n",
      "\u001b[33mWARN: gym.spaces.Box autodetected dtype as <class 'numpy.float32'>. Please provide explicit dtype.\u001b[0m\n"
     ]
    }
   ],
   "source": [
    "env = gym.make(\"LunarLanderContinuous-v2\")\n",
    "state_size = np.prod(list(env.observation_space.shape))\n",
    "action_size = np.prod(list(env.action_space.shape))"
   ]
  },
  {
   "cell_type": "code",
   "execution_count": 18,
   "metadata": {},
   "outputs": [
    {
     "name": "stdout",
     "output_type": "stream",
     "text": [
      "[[ 3.27396393e-04  9.47147757e-01  3.31492245e-02  4.35616843e-01\n",
      "  -3.72622249e-04 -7.50884041e-03  0.00000000e+00  0.00000000e+00]\n",
      " [ 3.27396393e-04  9.47147757e-01  3.31492245e-02  4.35616843e-01\n",
      "  -3.72622249e-04 -7.50884041e-03  0.00000000e+00  0.00000000e+00]\n",
      " [ 3.27396393e-04  9.47147757e-01  3.31492245e-02  4.35616843e-01\n",
      "  -3.72622249e-04 -7.50884041e-03  0.00000000e+00  0.00000000e+00]\n",
      " [ 3.27396393e-04  9.47147757e-01  3.31492245e-02  4.35616843e-01\n",
      "  -3.72622249e-04 -7.50884041e-03  0.00000000e+00  0.00000000e+00]]\n"
     ]
    }
   ],
   "source": [
    "ob = env.reset()\n",
    "a = ob\n",
    "# print(ob)\n",
    "# print(ob[None])\n",
    "\n",
    "ob = ob[None]\n",
    "ob = np.append (ob, ob, axis = 0)\n",
    "ob = np.append (ob, ob, axis = 0)\n",
    "print(ob)"
   ]
  },
  {
   "cell_type": "code",
   "execution_count": 19,
   "metadata": {},
   "outputs": [],
   "source": [
    "ob = torch.from_numpy(ob).float()"
   ]
  },
  {
   "cell_type": "code",
   "execution_count": 20,
   "metadata": {},
   "outputs": [],
   "source": [
    "def weights_init(m):\n",
    "    if hasattr(m, 'weight'):\n",
    "        torch.nn.init.xavier_uniform_(m.weight)"
   ]
  },
  {
   "cell_type": "code",
   "execution_count": 21,
   "metadata": {},
   "outputs": [],
   "source": [
    "agent = Actor(n_ip=3, n_op=action_size).apply(weights_init)"
   ]
  },
  {
   "cell_type": "code",
   "execution_count": 22,
   "metadata": {},
   "outputs": [
    {
     "name": "stdout",
     "output_type": "stream",
     "text": [
      "CUDA\n"
     ]
    }
   ],
   "source": [
    "if next(agent.parameters()).is_cuda:\n",
    "    print(\"CUDA\")\n",
    "else:\n",
    "    print(\"CPU\")"
   ]
  },
  {
   "cell_type": "code",
   "execution_count": 23,
   "metadata": {},
   "outputs": [],
   "source": [
    "datasett = [ ((1,2,3,4),(1,2)), ((5,6,7,8),(5,6)), ((7,8,9,0),(7,8)) ]"
   ]
  },
  {
   "cell_type": "code",
   "execution_count": 24,
   "metadata": {},
   "outputs": [],
   "source": [
    "expert_loader = Loader(data_collected=datasett)\n",
    "loader = dataloader.DataLoader(expert_loader, batch_size=2, shuffle=True)"
   ]
  },
  {
   "cell_type": "code",
   "execution_count": 25,
   "metadata": {},
   "outputs": [
    {
     "name": "stdout",
     "output_type": "stream",
     "text": [
      "tensor([[7., 8., 9., 0.],\n",
      "        [1., 2., 3., 4.]], device='cuda:0')\n"
     ]
    }
   ],
   "source": [
    "for x,y in loader:\n",
    "    print(x)\n",
    "    break"
   ]
  },
  {
   "cell_type": "code",
   "execution_count": 26,
   "metadata": {},
   "outputs": [
    {
     "name": "stdout",
     "output_type": "stream",
     "text": [
      "tensor([7., 8., 9., 0.], device='cuda:0')\n"
     ]
    }
   ],
   "source": [
    "print(x[0])"
   ]
  },
  {
   "cell_type": "code",
   "execution_count": 27,
   "metadata": {},
   "outputs": [
    {
     "name": "stdout",
     "output_type": "stream",
     "text": [
      "tensor([[1., 2., 3.],\n",
      "        [4., 5., 6.]], device='cuda:0')\n"
     ]
    }
   ],
   "source": [
    "b = [[1,2,3], [4,5,6]]\n",
    "# b = [[1,2,3]]\n",
    "a = torch.Tensor(b).to(\"cuda\")\n",
    "print(a)\n"
   ]
  },
  {
   "cell_type": "code",
   "execution_count": 28,
   "metadata": {},
   "outputs": [
    {
     "name": "stdout",
     "output_type": "stream",
     "text": [
      "m\n",
      " [[ 0.39692912 -0.55686307]\n",
      " [ 0.68864477 -0.7101314 ]]\n",
      "\n",
      "\n",
      "s\n",
      " [[1.1054512e+00 1.0000000e-03]\n",
      " [1.5086987e+00 1.0000000e-03]]\n"
     ]
    }
   ],
   "source": [
    "with torch.no_grad():\n",
    "    mean, std = agent(a)\n",
    "    m = mean.cpu().numpy()\n",
    "    s = std.cpu().numpy()\n",
    "    print(\"m\\n\", m)\n",
    "    print(\"\\n\\ns\\n\", s)"
   ]
  },
  {
   "cell_type": "code",
   "execution_count": 29,
   "metadata": {},
   "outputs": [],
   "source": [
    "m = [[1,2],[10,20], [100, 200]]\n",
    "s = [[1,1],[1,1], [1,1]]"
   ]
  },
  {
   "cell_type": "code",
   "execution_count": 30,
   "metadata": {},
   "outputs": [
    {
     "name": "stdout",
     "output_type": "stream",
     "text": [
      "tensor([[ 1.6259,  2.0199],\n",
      "        [10.7599, 20.0397]])\n"
     ]
    }
   ],
   "source": [
    "\n",
    "m = torch.tensor(m).float()\n",
    "s = torch.tensor(s).float()\n",
    "\n",
    "sampled_action = torch.normal(mean=m, std=s)\n",
    "print(sampled_action)"
   ]
  },
  {
   "cell_type": "code",
   "execution_count": 84,
   "metadata": {},
   "outputs": [
    {
     "name": "stdout",
     "output_type": "stream",
     "text": [
      "2\n",
      "tensor([  1.,   2.,  10.,  20., 100., 200.])\n",
      "tensor([1., 1., 1., 1., 1., 1.])\n",
      "[  0.2805382   1.445059    9.795682   20.995651   99.35505   199.93478  ]\n"
     ]
    }
   ],
   "source": [
    "m = [[1,2],[10,20], [100, 200]]\n",
    "s = [[1,1],[1,1], [1,1]]\n",
    "\n",
    "chnk = len(m[0])\n",
    "print(chnk)\n",
    "\n",
    "m1 = torch.tensor(m).flatten().float()\n",
    "s1 = torch.tensor(s).flatten().float()\n",
    "\n",
    "print(m1)\n",
    "\n",
    "print(s1)\n",
    "sampled_action = torch.normal(mean=m1, std=s1).reshape(-1, chnk).numpy()\n",
    "#sampled_action.flatten()\n",
    "print(sampled_action.flatten())\n"
   ]
  },
  {
   "cell_type": "code",
   "execution_count": 85,
   "metadata": {},
   "outputs": [],
   "source": [
    "# fix log prob\n",
    "def get_log_prob(mean, standard_deviation, actions):\n",
    "    m = mean\n",
    "    s = standard_deviation\n",
    "    log_prob = torch.distributions.Normal(loc=m, scale=s).log_prob(actions).sum(-1)\n",
    "    return  log_prob"
   ]
  },
  {
   "cell_type": "code",
   "execution_count": 87,
   "metadata": {},
   "outputs": [
    {
     "name": "stdout",
     "output_type": "stream",
     "text": [
      "tensor(-5.5136)\n",
      "tensor(0.0040)\n"
     ]
    }
   ],
   "source": [
    "actions = torch.tensor(sampled_action).flatten()\n",
    "log_probs = get_log_prob(mean=m1, standard_deviation=s1, actions=m1)\n",
    "print(log_probs)\n",
    "print(torch.exp(log_probs))"
   ]
  },
  {
   "cell_type": "code",
   "execution_count": 3,
   "metadata": {},
   "outputs": [],
   "source": [
    "import numpy as np"
   ]
  },
  {
   "cell_type": "code",
   "execution_count": 17,
   "metadata": {},
   "outputs": [
    {
     "name": "stdout",
     "output_type": "stream",
     "text": [
      "{((1, 2, 3), (10, 20, 30)): 99, ((11, 12, 13), (110, 120, 130)): 299}\n",
      "[(((1, 2, 3), (10, 20, 30)), 99), (((11, 12, 13), (110, 120, 130)), 299)]\n",
      "\n",
      "state :  [1, 2, 3]\n",
      "action :  [10, 20, 30]\n",
      "value :  99\n",
      "\n",
      "state :  [11, 12, 13]\n",
      "action :  [110, 120, 130]\n",
      "value :  299\n"
     ]
    }
   ],
   "source": [
    "a = [1,2,3]\n",
    "b = [10,20,30]\n",
    "a = tuple(a)\n",
    "b = tuple(b)\n",
    "\n",
    "d = {}\n",
    "d[(a,b)] = 99\n",
    "\n",
    "a = [11,12,13]\n",
    "b = [110,120,130]\n",
    "a = tuple(a)\n",
    "b = tuple(b)\n",
    "d[(a,b)] = 299\n",
    "\n",
    "print(d)\n",
    "\n",
    "d = list(d.items())\n",
    "\n",
    "print(d)\n",
    "\n",
    "for i in d:    \n",
    "    key, value = i\n",
    "    state = list(key[0])\n",
    "    action = list(key[1])\n",
    "    print()\n",
    "    print(\"state : \", state)\n",
    "    print(\"action : \", action)\n",
    "    print(\"value : \", value)"
   ]
  },
  {
   "cell_type": "code",
   "execution_count": null,
   "metadata": {},
   "outputs": [],
   "source": []
  }
 ],
 "metadata": {
  "kernelspec": {
   "display_name": "Python 3",
   "language": "python",
   "name": "python3"
  },
  "language_info": {
   "codemirror_mode": {
    "name": "ipython",
    "version": 3
   },
   "file_extension": ".py",
   "mimetype": "text/x-python",
   "name": "python",
   "nbconvert_exporter": "python",
   "pygments_lexer": "ipython3",
   "version": "3.7.7"
  }
 },
 "nbformat": 4,
 "nbformat_minor": 4
}
